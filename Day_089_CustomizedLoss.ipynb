{
 "cells": [
  {
   "cell_type": "code",
   "execution_count": 1,
   "metadata": {},
   "outputs": [
    {
     "name": "stderr",
     "output_type": "stream",
     "text": [
      "Using TensorFlow backend.\n"
     ]
    }
   ],
   "source": [
    "import os\n",
    "import keras\n",
    "\n",
    "# Disable GPU\n",
    "os.environ[\"CUDA_VISIBLE_DEVICES\"] = \"\""
   ]
  },
  {
   "cell_type": "code",
   "execution_count": 2,
   "metadata": {},
   "outputs": [],
   "source": [
    "train, test = keras.datasets.cifar10.load_data()"
   ]
  },
  {
   "cell_type": "code",
   "execution_count": 3,
   "metadata": {},
   "outputs": [],
   "source": [
    "## 資料前處理\n",
    "def preproc_x(x, flatten=True):\n",
    "    x = x / 255.\n",
    "    if flatten:\n",
    "        x = x.reshape((len(x), -1))\n",
    "    return x\n",
    "\n",
    "def preproc_y(y, num_classes=10):\n",
    "    if y.shape[-1] == 1:\n",
    "        y = keras.utils.to_categorical(y, num_classes)\n",
    "    return y    "
   ]
  },
  {
   "cell_type": "code",
   "execution_count": 4,
   "metadata": {},
   "outputs": [],
   "source": [
    "x_train, y_train = train\n",
    "x_test, y_test = test\n",
    "\n",
    "# Preproc the inputs\n",
    "x_train = preproc_x(x_train)\n",
    "x_test = preproc_x(x_test)\n",
    "\n",
    "# Preprc the outputs\n",
    "y_train = preproc_y(y_train)\n",
    "y_test = preproc_y(y_test)"
   ]
  },
  {
   "cell_type": "code",
   "execution_count": 5,
   "metadata": {},
   "outputs": [],
   "source": [
    "from keras.layers import BatchNormalization\n",
    "def build_mlp(input_shape, output_units=10, num_neurons=[512, 256, 128]):\n",
    "    input_layer = keras.layers.Input(input_shape)\n",
    "    \n",
    "    for i, n_units in enumerate(num_neurons):\n",
    "        if i == 0:\n",
    "            x = keras.layers.Dense(units=n_units, \n",
    "                                   activation=\"relu\", \n",
    "                                   name=\"hidden_layer\"+str(i+1))(input_layer)\n",
    "            x = BatchNormalization()(x)\n",
    "        else:\n",
    "            x = keras.layers.Dense(units=n_units, \n",
    "                                   activation=\"relu\", \n",
    "                                   name=\"hidden_layer\"+str(i+1))(x)\n",
    "            x = BatchNormalization()(x)\n",
    "    \n",
    "    out = keras.layers.Dense(units=output_units, activation=\"softmax\", name=\"output\")(x)\n",
    "    \n",
    "    model = keras.models.Model(inputs=[input_layer], outputs=[out])\n",
    "    return model"
   ]
  },
  {
   "cell_type": "code",
   "execution_count": 6,
   "metadata": {},
   "outputs": [],
   "source": [
    "## 超參數設定\n",
    "LEARNING_RATE = 1e-3\n",
    "EPOCHS = 50\n",
    "BATCH_SIZE = 1024\n",
    "MOMENTUM = 0.95"
   ]
  },
  {
   "cell_type": "code",
   "execution_count": 7,
   "metadata": {},
   "outputs": [],
   "source": [
    "import tensorflow as tf\n",
    "import keras.backend as K\n",
    "\n",
    "def focal_loss(gamma=2., alpha=4.):\n",
    "    gamma = float(gamma)\n",
    "    alpha = float(alpha)\n",
    "    def focal_loss_fixed(y_true, y_pred):\n",
    "        \"\"\"Focal loss for multi-classification\n",
    "        FL(p_t)=-alpha(1-p_t)^{gamma}ln(p_t)\n",
    "        \"\"\"\n",
    "        epsilon = 1e-8\n",
    "        y_true = tf.convert_to_tensor(y_true, tf.float32)\n",
    "        y_pred = tf.convert_to_tensor(y_pred, tf.float32)\n",
    "\n",
    "        model_out = tf.add(y_pred, epsilon)\n",
    "        ce = tf.multiply(y_true, -tf.log(model_out))\n",
    "        weight = tf.multiply(y_true, tf.pow(tf.subtract(1., model_out), gamma))\n",
    "        fl = tf.multiply(alpha, tf.multiply(weight, ce))\n",
    "        reduced_fl = tf.reduce_max(fl, axis=1)\n",
    "        return tf.reduce_mean(reduced_fl)\n",
    "    return focal_loss_fixed"
   ]
  },
  {
   "cell_type": "code",
   "execution_count": 8,
   "metadata": {
    "scrolled": true
   },
   "outputs": [
    {
     "name": "stdout",
     "output_type": "stream",
     "text": [
      "_________________________________________________________________\n",
      "Layer (type)                 Output Shape              Param #   \n",
      "=================================================================\n",
      "input_1 (InputLayer)         (None, 3072)              0         \n",
      "_________________________________________________________________\n",
      "hidden_layer1 (Dense)        (None, 512)               1573376   \n",
      "_________________________________________________________________\n",
      "batch_normalization_1 (Batch (None, 512)               2048      \n",
      "_________________________________________________________________\n",
      "hidden_layer2 (Dense)        (None, 256)               131328    \n",
      "_________________________________________________________________\n",
      "batch_normalization_2 (Batch (None, 256)               1024      \n",
      "_________________________________________________________________\n",
      "hidden_layer3 (Dense)        (None, 128)               32896     \n",
      "_________________________________________________________________\n",
      "batch_normalization_3 (Batch (None, 128)               512       \n",
      "_________________________________________________________________\n",
      "output (Dense)               (None, 10)                1290      \n",
      "=================================================================\n",
      "Total params: 1,742,474\n",
      "Trainable params: 1,740,682\n",
      "Non-trainable params: 1,792\n",
      "_________________________________________________________________\n",
      "Train on 50000 samples, validate on 10000 samples\n",
      "Epoch 1/50\n",
      "50000/50000 [==============================] - 6s 120us/step - loss: 6.0483 - acc: 0.3241 - val_loss: 6.1172 - val_acc: 0.3355\n",
      "Epoch 2/50\n",
      "50000/50000 [==============================] - 2s 41us/step - loss: 4.3825 - acc: 0.4404 - val_loss: 4.5817 - val_acc: 0.4227\n",
      "Epoch 3/50\n",
      "50000/50000 [==============================] - 2s 41us/step - loss: 3.9735 - acc: 0.4806 - val_loss: 4.3105 - val_acc: 0.4442\n",
      "Epoch 4/50\n",
      "50000/50000 [==============================] - 2s 41us/step - loss: 3.7117 - acc: 0.5070 - val_loss: 4.3192 - val_acc: 0.4400\n",
      "Epoch 5/50\n",
      "50000/50000 [==============================] - 2s 41us/step - loss: 3.5088 - acc: 0.5288 - val_loss: 4.4366 - val_acc: 0.4358\n",
      "Epoch 6/50\n",
      "50000/50000 [==============================] - 2s 41us/step - loss: 3.3144 - acc: 0.5467 - val_loss: 4.2247 - val_acc: 0.4535\n",
      "Epoch 7/50\n",
      "50000/50000 [==============================] - 2s 40us/step - loss: 3.1563 - acc: 0.5640 - val_loss: 3.9682 - val_acc: 0.4758\n",
      "Epoch 8/50\n",
      "50000/50000 [==============================] - 2s 41us/step - loss: 2.9958 - acc: 0.5797 - val_loss: 3.9646 - val_acc: 0.4778\n",
      "Epoch 9/50\n",
      "50000/50000 [==============================] - 2s 41us/step - loss: 2.8483 - acc: 0.5971 - val_loss: 4.2555 - val_acc: 0.4511\n",
      "Epoch 10/50\n",
      "50000/50000 [==============================] - 2s 41us/step - loss: 2.7068 - acc: 0.6125 - val_loss: 4.1426 - val_acc: 0.4615\n",
      "Epoch 11/50\n",
      "50000/50000 [==============================] - 2s 41us/step - loss: 2.5776 - acc: 0.6264 - val_loss: 4.0746 - val_acc: 0.4669\n",
      "Epoch 12/50\n",
      "50000/50000 [==============================] - 2s 41us/step - loss: 2.4627 - acc: 0.6379 - val_loss: 3.9034 - val_acc: 0.4918\n",
      "Epoch 13/50\n",
      "50000/50000 [==============================] - 2s 41us/step - loss: 2.3341 - acc: 0.6524 - val_loss: 4.0165 - val_acc: 0.4803\n",
      "Epoch 14/50\n",
      "50000/50000 [==============================] - 2s 41us/step - loss: 2.2147 - acc: 0.6688 - val_loss: 4.0163 - val_acc: 0.4785\n",
      "Epoch 15/50\n",
      "50000/50000 [==============================] - 2s 41us/step - loss: 2.0950 - acc: 0.6795 - val_loss: 4.0447 - val_acc: 0.4815\n",
      "Epoch 16/50\n",
      "50000/50000 [==============================] - 2s 41us/step - loss: 1.9840 - acc: 0.6919 - val_loss: 4.0881 - val_acc: 0.4736\n",
      "Epoch 17/50\n",
      "50000/50000 [==============================] - 2s 41us/step - loss: 1.8779 - acc: 0.7096 - val_loss: 4.1653 - val_acc: 0.4713\n",
      "Epoch 18/50\n",
      "50000/50000 [==============================] - 2s 41us/step - loss: 1.7555 - acc: 0.7232 - val_loss: 4.1948 - val_acc: 0.4822\n",
      "Epoch 19/50\n",
      "50000/50000 [==============================] - 2s 41us/step - loss: 1.6518 - acc: 0.7340 - val_loss: 4.2699 - val_acc: 0.4658\n",
      "Epoch 20/50\n",
      "50000/50000 [==============================] - 2s 41us/step - loss: 1.5438 - acc: 0.7509 - val_loss: 4.3009 - val_acc: 0.4757\n",
      "Epoch 21/50\n",
      "50000/50000 [==============================] - 2s 41us/step - loss: 1.4484 - acc: 0.7626 - val_loss: 4.4874 - val_acc: 0.4728\n",
      "Epoch 22/50\n",
      "50000/50000 [==============================] - 2s 41us/step - loss: 1.3525 - acc: 0.7766 - val_loss: 4.5481 - val_acc: 0.4532\n",
      "Epoch 23/50\n",
      "50000/50000 [==============================] - 2s 41us/step - loss: 1.2534 - acc: 0.7888 - val_loss: 4.4895 - val_acc: 0.4809\n",
      "Epoch 24/50\n",
      "50000/50000 [==============================] - 2s 41us/step - loss: 1.1572 - acc: 0.8036 - val_loss: 4.6145 - val_acc: 0.4764\n",
      "Epoch 25/50\n",
      "50000/50000 [==============================] - 2s 41us/step - loss: 1.0816 - acc: 0.8129 - val_loss: 4.8253 - val_acc: 0.4707\n",
      "Epoch 26/50\n",
      "50000/50000 [==============================] - 2s 41us/step - loss: 0.9952 - acc: 0.8292 - val_loss: 4.7841 - val_acc: 0.4750\n",
      "Epoch 27/50\n",
      "50000/50000 [==============================] - 2s 41us/step - loss: 0.9212 - acc: 0.8377 - val_loss: 4.8875 - val_acc: 0.4614\n",
      "Epoch 28/50\n",
      "50000/50000 [==============================] - 2s 41us/step - loss: 0.8448 - acc: 0.8509 - val_loss: 4.8748 - val_acc: 0.4790\n",
      "Epoch 29/50\n",
      "50000/50000 [==============================] - 2s 41us/step - loss: 0.7755 - acc: 0.8628 - val_loss: 5.0685 - val_acc: 0.4677\n",
      "Epoch 30/50\n",
      "50000/50000 [==============================] - 2s 41us/step - loss: 0.7073 - acc: 0.8733 - val_loss: 5.0522 - val_acc: 0.4694\n",
      "Epoch 31/50\n",
      "50000/50000 [==============================] - 2s 41us/step - loss: 0.6501 - acc: 0.8844 - val_loss: 5.1408 - val_acc: 0.4725\n",
      "Epoch 32/50\n",
      "50000/50000 [==============================] - 2s 41us/step - loss: 0.5959 - acc: 0.8926 - val_loss: 5.2156 - val_acc: 0.4685\n",
      "Epoch 33/50\n",
      "50000/50000 [==============================] - 2s 41us/step - loss: 0.5308 - acc: 0.9060 - val_loss: 5.3127 - val_acc: 0.4727\n",
      "Epoch 34/50\n",
      "50000/50000 [==============================] - 2s 41us/step - loss: 0.4836 - acc: 0.9152 - val_loss: 5.5167 - val_acc: 0.4685\n",
      "Epoch 35/50\n",
      "50000/50000 [==============================] - 2s 41us/step - loss: 0.4335 - acc: 0.9256 - val_loss: 5.4618 - val_acc: 0.4651\n",
      "Epoch 36/50\n",
      "50000/50000 [==============================] - 2s 41us/step - loss: 0.3979 - acc: 0.9317 - val_loss: 5.6345 - val_acc: 0.4678\n",
      "Epoch 37/50\n",
      "50000/50000 [==============================] - 2s 40us/step - loss: 0.3612 - acc: 0.9375 - val_loss: 5.8104 - val_acc: 0.4632\n",
      "Epoch 38/50\n",
      "50000/50000 [==============================] - 2s 41us/step - loss: 0.3142 - acc: 0.9493 - val_loss: 5.7326 - val_acc: 0.4708\n",
      "Epoch 39/50\n",
      "50000/50000 [==============================] - 2s 41us/step - loss: 0.2866 - acc: 0.9537 - val_loss: 5.8311 - val_acc: 0.4702\n",
      "Epoch 40/50\n",
      "50000/50000 [==============================] - 2s 41us/step - loss: 0.2616 - acc: 0.9584 - val_loss: 5.8097 - val_acc: 0.4750\n",
      "Epoch 41/50\n",
      "50000/50000 [==============================] - 2s 41us/step - loss: 0.2359 - acc: 0.9638 - val_loss: 5.9482 - val_acc: 0.4703\n",
      "Epoch 42/50\n",
      "50000/50000 [==============================] - 2s 41us/step - loss: 0.2095 - acc: 0.9696 - val_loss: 6.0044 - val_acc: 0.4728\n",
      "Epoch 43/50\n",
      "50000/50000 [==============================] - 2s 41us/step - loss: 0.1876 - acc: 0.9732 - val_loss: 6.0796 - val_acc: 0.4722\n",
      "Epoch 44/50\n",
      "50000/50000 [==============================] - 2s 40us/step - loss: 0.1738 - acc: 0.9760 - val_loss: 6.0370 - val_acc: 0.4746\n",
      "Epoch 45/50\n",
      "50000/50000 [==============================] - 2s 41us/step - loss: 0.1570 - acc: 0.9793 - val_loss: 6.1495 - val_acc: 0.4698\n",
      "Epoch 46/50\n",
      "50000/50000 [==============================] - 2s 41us/step - loss: 0.1370 - acc: 0.9837 - val_loss: 6.2733 - val_acc: 0.4695\n",
      "Epoch 47/50\n",
      "50000/50000 [==============================] - 2s 40us/step - loss: 0.1250 - acc: 0.9857 - val_loss: 6.2883 - val_acc: 0.4735\n",
      "Epoch 48/50\n",
      "50000/50000 [==============================] - 2s 41us/step - loss: 0.1126 - acc: 0.9882 - val_loss: 6.3080 - val_acc: 0.4756\n",
      "Epoch 49/50\n",
      "50000/50000 [==============================] - 2s 41us/step - loss: 0.1042 - acc: 0.9901 - val_loss: 6.4156 - val_acc: 0.4735\n"
     ]
    },
    {
     "name": "stdout",
     "output_type": "stream",
     "text": [
      "Epoch 50/50\n",
      "50000/50000 [==============================] - 2s 41us/step - loss: 0.0974 - acc: 0.9911 - val_loss: 6.3958 - val_acc: 0.4776\n"
     ]
    }
   ],
   "source": [
    "model = build_mlp(input_shape=x_train.shape[1:])\n",
    "model.summary()\n",
    "optimizer = keras.optimizers.SGD(lr=LEARNING_RATE, nesterov=True, momentum=MOMENTUM)\n",
    "model.compile(loss=focal_loss(), metrics=[\"accuracy\"], optimizer=optimizer)\n",
    "\n",
    "model.fit(x_train, y_train, \n",
    "          epochs=EPOCHS, \n",
    "          batch_size=BATCH_SIZE, \n",
    "          validation_data=(x_test, y_test), \n",
    "          shuffle=True\n",
    "         )\n",
    "\n",
    "# Collect results\n",
    "train_loss = model.history.history[\"loss\"]\n",
    "valid_loss = model.history.history[\"val_loss\"]\n",
    "train_acc = model.history.history[\"acc\"]\n",
    "valid_acc = model.history.history[\"val_acc\"]"
   ]
  },
  {
   "cell_type": "code",
   "execution_count": 9,
   "metadata": {},
   "outputs": [
    {
     "data": {
      "image/png": "[encoded data removed]",
      "text/plain": [
       "<Figure size 432x288 with 1 Axes>"
      ]
     },
     "metadata": {
      "needs_background": "light"
     },
     "output_type": "display_data"
    },
    {
     "data": {
      "image/png": "[encoded data removed]",
      "text/plain": [
       "<Figure size 432x288 with 1 Axes>"
      ]
     },
     "metadata": {
      "needs_background": "light"
     },
     "output_type": "display_data"
    }
   ],
   "source": [
    "import matplotlib.pyplot as plt\n",
    "%matplotlib inline\n",
    "\n",
    "plt.plot(range(len(train_loss)), train_loss, label=\"train loss\")\n",
    "plt.plot(range(len(valid_loss)), valid_loss, label=\"valid loss\")\n",
    "plt.legend()\n",
    "plt.title(\"Loss\")\n",
    "plt.show()\n",
    "\n",
    "plt.plot(range(len(train_acc)), train_acc, label=\"train accuracy\")\n",
    "plt.plot(range(len(valid_acc)), valid_acc, label=\"valid accuracy\")\n",
    "plt.legend()\n",
    "plt.title(\"Accuracy\")\n",
    "plt.show()"
   ]
  },
  {
   "cell_type": "markdown",
   "metadata": {},
   "source": [
    "## Work\n",
    "1. 請自行定義一個 loss function, 為 0.3 * focal loss + 0.7 cross-entropy，訓練並比較結果\n"
   ]
  },
  {
   "cell_type": "code",
   "execution_count": null,
   "metadata": {},
   "outputs": [],
   "source": []
  }
 ],
 "metadata": {
  "kernelspec": {
   "display_name": "Python 3",
   "language": "python",
   "name": "python3"
  },
  "language_info": {
   "codemirror_mode": {
    "name": "ipython",
    "version": 3
   },
   "file_extension": ".py",
   "mimetype": "text/x-python",
   "name": "python",
   "nbconvert_exporter": "python",
   "pygments_lexer": "ipython3",
   "version": "3.6.7"
  }
 },
 "nbformat": 4,
 "nbformat_minor": 2
}
