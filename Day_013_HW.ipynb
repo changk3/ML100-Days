{
 "cells": [
  {
   "cell_type": "markdown",
   "metadata": {},
   "source": [
    "## 練習時間\n",
    "參考 Day 12 範例程式，離散化你覺得有興趣的欄位，並嘗試找出有趣的訊息"
   ]
  },
  {
   "cell_type": "code",
   "execution_count": 1,
   "metadata": {},
   "outputs": [],
   "source": [
    "# Import 需要的套件\n",
    "import os\n",
    "import numpy as np\n",
    "import pandas as pd\n",
    "\n",
    "import matplotlib.pyplot as plt\n",
    "%matplotlib inline\n",
    "\n",
    "import seaborn as sns"
   ]
  },
  {
   "cell_type": "markdown",
   "metadata": {},
   "source": [
    "### 之前做過的處理"
   ]
  },
  {
   "cell_type": "code",
   "execution_count": 2,
   "metadata": {},
   "outputs": [],
   "source": [
    "# 設定 data_path\n",
    "dir_data = './data/'\n",
    "f_app_train = os.path.join(dir_data, 'application_train.csv')\n",
    "f_app_test = os.path.join(dir_data, 'application_test.csv')\n",
    "\n",
    "app_train = pd.read_csv(f_app_train)\n",
    "app_test = pd.read_csv(f_app_test)\n",
    "\n",
    "from sklearn.preprocessing import LabelEncoder\n",
    "\n",
    "# Create a label encoder object\n",
    "le = LabelEncoder()\n",
    "le_count = 0\n",
    "\n",
    "# Iterate through the columns\n",
    "for col in app_train:\n",
    "    if app_train[col].dtype == 'object':\n",
    "        # If 2 or fewer unique categories\n",
    "        if len(list(app_train[col].unique())) <= 2:\n",
    "            # Train on the training data\n",
    "            le.fit(app_train[col])\n",
    "            # Transform both training and testing data\n",
    "            app_train[col] = le.transform(app_train[col])\n",
    "            app_test[col] = le.transform(app_test[col])\n",
    "            \n",
    "            # Keep track of how many columns were label encoded\n",
    "            le_count += 1\n",
    "            \n",
    "app_train = pd.get_dummies(app_train)\n",
    "app_test = pd.get_dummies(app_test)\n",
    "\n",
    "# Create an anomalous flag column\n",
    "app_train['DAYS_EMPLOYED_ANOM'] = app_train[\"DAYS_EMPLOYED\"] == 365243\n",
    "app_train['DAYS_EMPLOYED'].replace({365243: np.nan}, inplace = True)\n",
    "# also apply to testing dataset\n",
    "app_test['DAYS_EMPLOYED_ANOM'] = app_test[\"DAYS_EMPLOYED\"] == 365243\n",
    "app_test[\"DAYS_EMPLOYED\"].replace({365243: np.nan}, inplace = True)\n",
    "\n",
    "# absolute the value of DAYS_BIRTH\n",
    "app_train['DAYS_BIRTH'] = abs(app_train['DAYS_BIRTH'])\n",
    "app_test['DAYS_BIRTH'] = abs(app_test['DAYS_BIRTH'])"
   ]
  },
  {
   "cell_type": "code",
   "execution_count": 3,
   "metadata": {},
   "outputs": [
    {
     "name": "stdout",
     "output_type": "stream",
     "text": [
      "app_train.shape:  (307511, 244)\n"
     ]
    },
    {
     "data": {
      "text/html": [
       "<div>\n",
       "<style scoped>\n",
       "    .dataframe tbody tr th:only-of-type {\n",
       "        vertical-align: middle;\n",
       "    }\n",
       "\n",
       "    .dataframe tbody tr th {\n",
       "        vertical-align: top;\n",
       "    }\n",
       "\n",
       "    .dataframe thead th {\n",
       "        text-align: right;\n",
       "    }\n",
       "</style>\n",
       "<table border=\"1\" class=\"dataframe\">\n",
       "  <thead>\n",
       "    <tr style=\"text-align: right;\">\n",
       "      <th></th>\n",
       "      <th>AMT_INCOME_TOTAL</th>\n",
       "    </tr>\n",
       "  </thead>\n",
       "  <tbody>\n",
       "  </tbody>\n",
       "</table>\n",
       "</div>"
      ],
      "text/plain": [
       "Empty DataFrame\n",
       "Columns: [AMT_INCOME_TOTAL]\n",
       "Index: []"
      ]
     },
     "execution_count": 3,
     "metadata": {},
     "output_type": "execute_result"
    }
   ],
   "source": [
    "print(\"app_train.shape: \", app_train.shape)\n",
    "app_train.loc[app_train[\"AMT_INCOME_TOTAL\"].isna(), [\"AMT_INCOME_TOTAL\"]]"
   ]
  },
  {
   "cell_type": "markdown",
   "metadata": {},
   "source": [
    "### 等頻劃分 AMT_INCOME_TOTAL"
   ]
  },
  {
   "cell_type": "code",
   "execution_count": 39,
   "metadata": {},
   "outputs": [
    {
     "data": {
      "text/plain": [
       "(25649.999, 90000.0]       57922\n",
       "(157500.0, 202500.0]       52918\n",
       "(112500.0, 135000.0]       48849\n",
       "(90000.0, 112500.0]        42656\n",
       "(247500.0, 117000000.0]    39797\n",
       "(135000.0, 157500.0]       33628\n",
       "(202500.0, 247500.0]       31741\n",
       "Name: AMT_INCOME_TOTAL_QCUT, dtype: int64"
      ]
     },
     "execution_count": 39,
     "metadata": {},
     "output_type": "execute_result"
    }
   ],
   "source": [
    "app_train[\"AMT_INCOME_TOTAL_QCUT\"] = pd.qcut(app_train[\"AMT_INCOME_TOTAL\"], q=7) #???\n",
    "app_train[\"AMT_INCOME_TOTAL_QCUT\"].value_counts()"
   ]
  },
  {
   "cell_type": "markdown",
   "metadata": {},
   "source": [
    "## Plot bins"
   ]
  },
  {
   "cell_type": "code",
   "execution_count": 41,
   "metadata": {},
   "outputs": [
    {
     "name": "stdout",
     "output_type": "stream",
     "text": [
      "bin_series =  [(157500.0, 202500.0], (247500.0, 117000000.0], (25649.999, 90000.0], (112500.0, 135000.0], (90000.0, 112500.0], (202500.0, 247500.0], (135000.0, 157500.0]]\n",
      "Categories (7, interval[float64]): [(25649.999, 90000.0] < (90000.0, 112500.0] < (112500.0, 135000.0] < (135000.0, 157500.0] < (157500.0, 202500.0] < (202500.0, 247500.0] < (247500.0, 117000000.0]]\n"
     ]
    }
   ],
   "source": [
    "bin_series = app_train[\"AMT_INCOME_TOTAL_QCUT\"].unique()\n",
    "print(\"bin_series = \", bin_series)"
   ]
  },
  {
   "cell_type": "code",
   "execution_count": 42,
   "metadata": {},
   "outputs": [
    {
     "data": {
      "text/plain": [
       "0       (157500.0, 202500.0]\n",
       "1    (247500.0, 117000000.0]\n",
       "2       (25649.999, 90000.0]\n",
       "3       (112500.0, 135000.0]\n",
       "4       (112500.0, 135000.0]\n",
       "Name: AMT_INCOME_TOTAL_QCUT, dtype: category\n",
       "Categories (7, interval[float64]): [(25649.999, 90000.0] < (90000.0, 112500.0] < (112500.0, 135000.0] < (135000.0, 157500.0] < (157500.0, 202500.0] < (202500.0, 247500.0] < (247500.0, 117000000.0]]"
      ]
     },
     "execution_count": 42,
     "metadata": {},
     "output_type": "execute_result"
    }
   ],
   "source": [
    "app_train[\"AMT_INCOME_TOTAL_QCUT\"].head()"
   ]
  },
  {
   "cell_type": "code",
   "execution_count": 47,
   "metadata": {},
   "outputs": [
    {
     "name": "stdout",
     "output_type": "stream",
     "text": [
      "income_group_sorted[0] = (25649.999, 90000.0]\n",
      "income_group_sorted[1] = (90000.0, 112500.0]\n",
      "income_group_sorted[2] = (112500.0, 135000.0]\n",
      "income_group_sorted[3] = (135000.0, 157500.0]\n",
      "income_group_sorted[4] = (157500.0, 202500.0]\n",
      "income_group_sorted[5] = (202500.0, 247500.0]\n"
     ]
    },
    {
     "data": {
      "image/png": "[encoded data removed]",
      "text/plain": [
       "<matplotlib.figure.Figure at 0x1fe04cbab38>"
      ]
     },
     "metadata": {},
     "output_type": "display_data"
    }
   ],
   "source": [
    "income_group_sorted = bin_series.sort_values(ascending=True)\n",
    "\n",
    "plt.figure(figsize=(16,6))\n",
    "for i in range(0, 6, 1):\n",
    "#for i in range(len(income_group_sorted)):\n",
    "    print(\"income_group_sorted[%d] = %s\" % (i, income_group_sorted[i]))\n",
    "    sns.distplot(app_train.loc[(app_train[\"AMT_INCOME_TOTAL_QCUT\"] == income_group_sorted[i]), \"AMT_INCOME_TOTAL\"], \n",
    "                               label = str(income_group_sorted[i]))\n",
    "\n",
    "plt.title('KDE with AMT_INCOME_TOTAL groups(0~7)')\n",
    "plt.show()"
   ]
  },
  {
   "cell_type": "markdown",
   "metadata": {},
   "source": [
    "## Outlier 差異非常大？"
   ]
  },
  {
   "cell_type": "code",
   "execution_count": 46,
   "metadata": {},
   "outputs": [
    {
     "name": "stdout",
     "output_type": "stream",
     "text": [
      "income_group_sorted[5] = (202500.0, 247500.0]\n",
      "income_group_sorted[6] = (247500.0, 117000000.0]\n"
     ]
    },
    {
     "data": {
      "image/png": "[encoded data removed]",
      "text/plain": [
       "<matplotlib.figure.Figure at 0x1fe050fbba8>"
      ]
     },
     "metadata": {},
     "output_type": "display_data"
    }
   ],
   "source": [
    "plt.figure(figsize=(16,6))\n",
    "for i in range(5, 7, 1):\n",
    "    print(\"income_group_sorted[%d] = %s\" % (i, income_group_sorted[i]))\n",
    "    sns.distplot(app_train.loc[(app_train[\"AMT_INCOME_TOTAL_QCUT\"] == income_group_sorted[i]), \"AMT_INCOME_TOTAL\"], \n",
    "                               label = str(income_group_sorted[i]))\n",
    "\n",
    "plt.title('KDE with AMT_INCOME_TOTAL groups(8~10)')\n",
    "plt.show()"
   ]
  },
  {
   "cell_type": "code",
   "execution_count": null,
   "metadata": {},
   "outputs": [],
   "source": []
  }
 ],
 "metadata": {
  "kernelspec": {
   "display_name": "Python 3",
   "language": "python",
   "name": "python3"
  },
  "language_info": {
   "codemirror_mode": {
    "name": "ipython",
    "version": 3
   },
   "file_extension": ".py",
   "mimetype": "text/x-python",
   "name": "python",
   "nbconvert_exporter": "python",
   "pygments_lexer": "ipython3",
   "version": "3.6.4"
  }
 },
 "nbformat": 4,
 "nbformat_minor": 2
}
