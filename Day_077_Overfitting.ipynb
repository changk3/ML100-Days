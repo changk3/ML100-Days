{
 "cells": [
  {
   "cell_type": "code",
   "execution_count": 1,
   "metadata": {},
   "outputs": [
    {
     "name": "stderr",
     "output_type": "stream",
     "text": [
      "Using TensorFlow backend.\n"
     ]
    }
   ],
   "source": [
    "import os\n",
    "import keras\n",
    "\n",
    "# Disable GPU\n",
    "os.environ[\"CUDA_VISIBLE_DEVICES\"] = \"\""
   ]
  },
  {
   "cell_type": "code",
   "execution_count": 2,
   "metadata": {},
   "outputs": [],
   "source": [
    "train, test = keras.datasets.cifar10.load_data()"
   ]
  },
  {
   "cell_type": "code",
   "execution_count": 3,
   "metadata": {},
   "outputs": [],
   "source": [
    "x_train, y_train = train\n",
    "x_test, y_test = test\n",
    "x_train = x_train / 255.\n",
    "x_test = x_test / 255.\n",
    "\n",
    "# Flatten the images\n",
    "x_train = x_train.reshape((len(x_train), -1))\n",
    "x_test = x_test.reshape((len(x_test), -1))\n",
    "\n",
    "# Convert y to onehot\n",
    "y_train = keras.utils.to_categorical(y_train, num_classes=10)\n",
    "y_test = keras.utils.to_categorical(y_test, num_classes=10)"
   ]
  },
  {
   "cell_type": "code",
   "execution_count": 4,
   "metadata": {},
   "outputs": [],
   "source": [
    "def build_mlp():\n",
    "    input_layer = keras.layers.Input([x_train.shape[-1]])\n",
    "    x = keras.layers.Dense(units=512, activation=\"relu\")(input_layer)\n",
    "    x = keras.layers.Dense(units=256, activation=\"relu\")(x)\n",
    "    x = keras.layers.Dense(units=128, activation=\"relu\")(x)\n",
    "    out = keras.layers.Dense(units=10, activation=\"softmax\")(x)\n",
    "    \n",
    "    model = keras.models.Model(inputs=[input_layer], outputs=[out])\n",
    "    return model"
   ]
  },
  {
   "cell_type": "code",
   "execution_count": 5,
   "metadata": {},
   "outputs": [
    {
     "name": "stdout",
     "output_type": "stream",
     "text": [
      "_________________________________________________________________\n",
      "Layer (type)                 Output Shape              Param #   \n",
      "=================================================================\n",
      "input_1 (InputLayer)         (None, 3072)              0         \n",
      "_________________________________________________________________\n",
      "dense_1 (Dense)              (None, 512)               1573376   \n",
      "_________________________________________________________________\n",
      "dense_2 (Dense)              (None, 256)               131328    \n",
      "_________________________________________________________________\n",
      "dense_3 (Dense)              (None, 128)               32896     \n",
      "_________________________________________________________________\n",
      "dense_4 (Dense)              (None, 10)                1290      \n",
      "=================================================================\n",
      "Total params: 1,738,890\n",
      "Trainable params: 1,738,890\n",
      "Non-trainable params: 0\n",
      "_________________________________________________________________\n"
     ]
    }
   ],
   "source": [
    "model = build_mlp()\n",
    "model.summary()"
   ]
  },
  {
   "cell_type": "code",
   "execution_count": 6,
   "metadata": {},
   "outputs": [],
   "source": [
    "optimizer = keras.optimizers.Adam(lr=0.001)\n",
    "model.compile(loss=\"categorical_crossentropy\", metrics=[\"accuracy\"], optimizer=optimizer)"
   ]
  },
  {
   "cell_type": "code",
   "execution_count": 7,
   "metadata": {},
   "outputs": [
    {
     "name": "stdout",
     "output_type": "stream",
     "text": [
      "Train on 50000 samples, validate on 10000 samples\n",
      "Epoch 1/100\n",
      "50000/50000 [==============================] - 7s 148us/step - loss: 1.9283 - acc: 0.3057 - val_loss: 1.8139 - val_acc: 0.3484\n",
      "Epoch 2/100\n",
      "50000/50000 [==============================] - 3s 67us/step - loss: 1.7025 - acc: 0.3889 - val_loss: 1.6708 - val_acc: 0.4076\n",
      "Epoch 3/100\n",
      "50000/50000 [==============================] - 3s 67us/step - loss: 1.6154 - acc: 0.4224 - val_loss: 1.5818 - val_acc: 0.4367\n",
      "Epoch 4/100\n",
      "50000/50000 [==============================] - 3s 67us/step - loss: 1.5557 - acc: 0.4416 - val_loss: 1.5493 - val_acc: 0.4482\n",
      "Epoch 5/100\n",
      "50000/50000 [==============================] - 3s 67us/step - loss: 1.5028 - acc: 0.4648 - val_loss: 1.5291 - val_acc: 0.4544\n",
      "Epoch 6/100\n",
      "50000/50000 [==============================] - 3s 67us/step - loss: 1.4626 - acc: 0.4768 - val_loss: 1.4678 - val_acc: 0.4737\n",
      "Epoch 7/100\n",
      "50000/50000 [==============================] - 3s 68us/step - loss: 1.4383 - acc: 0.4892 - val_loss: 1.4663 - val_acc: 0.4766\n",
      "Epoch 8/100\n",
      "50000/50000 [==============================] - 3s 67us/step - loss: 1.4072 - acc: 0.5007 - val_loss: 1.4436 - val_acc: 0.4867\n",
      "Epoch 9/100\n",
      "50000/50000 [==============================] - 3s 68us/step - loss: 1.3848 - acc: 0.5062 - val_loss: 1.4324 - val_acc: 0.4915\n",
      "Epoch 10/100\n",
      "50000/50000 [==============================] - 3s 67us/step - loss: 1.3531 - acc: 0.5171 - val_loss: 1.4245 - val_acc: 0.4934\n",
      "Epoch 11/100\n",
      "50000/50000 [==============================] - 3s 68us/step - loss: 1.3235 - acc: 0.5303 - val_loss: 1.3909 - val_acc: 0.5082\n",
      "Epoch 12/100\n",
      "50000/50000 [==============================] - 3s 67us/step - loss: 1.3010 - acc: 0.5374 - val_loss: 1.4130 - val_acc: 0.5013\n",
      "Epoch 13/100\n",
      "50000/50000 [==============================] - 3s 67us/step - loss: 1.2762 - acc: 0.5483 - val_loss: 1.4087 - val_acc: 0.5002\n",
      "Epoch 14/100\n",
      "50000/50000 [==============================] - 3s 67us/step - loss: 1.2578 - acc: 0.5523 - val_loss: 1.3888 - val_acc: 0.5115\n",
      "Epoch 15/100\n",
      "50000/50000 [==============================] - 3s 67us/step - loss: 1.2344 - acc: 0.5597 - val_loss: 1.4704 - val_acc: 0.4870\n",
      "Epoch 16/100\n",
      "50000/50000 [==============================] - 3s 67us/step - loss: 1.2122 - acc: 0.5683 - val_loss: 1.3915 - val_acc: 0.5080\n",
      "Epoch 17/100\n",
      "50000/50000 [==============================] - 3s 67us/step - loss: 1.1933 - acc: 0.5749 - val_loss: 1.4141 - val_acc: 0.5074\n",
      "Epoch 18/100\n",
      "50000/50000 [==============================] - 3s 67us/step - loss: 1.1720 - acc: 0.5841 - val_loss: 1.3753 - val_acc: 0.5192\n",
      "Epoch 19/100\n",
      "50000/50000 [==============================] - 3s 68us/step - loss: 1.1474 - acc: 0.5913 - val_loss: 1.3852 - val_acc: 0.5194\n",
      "Epoch 20/100\n",
      "50000/50000 [==============================] - 3s 67us/step - loss: 1.1338 - acc: 0.5979 - val_loss: 1.3450 - val_acc: 0.5248\n",
      "Epoch 21/100\n",
      "50000/50000 [==============================] - 3s 67us/step - loss: 1.1168 - acc: 0.6037 - val_loss: 1.3751 - val_acc: 0.5256\n",
      "Epoch 22/100\n",
      "50000/50000 [==============================] - 3s 67us/step - loss: 1.0939 - acc: 0.6120 - val_loss: 1.4359 - val_acc: 0.5072\n",
      "Epoch 23/100\n",
      "50000/50000 [==============================] - 3s 67us/step - loss: 1.0697 - acc: 0.6190 - val_loss: 1.3858 - val_acc: 0.5197\n",
      "Epoch 24/100\n",
      "50000/50000 [==============================] - 3s 68us/step - loss: 1.0590 - acc: 0.6222 - val_loss: 1.3869 - val_acc: 0.5250\n",
      "Epoch 25/100\n",
      "50000/50000 [==============================] - 3s 67us/step - loss: 1.0299 - acc: 0.6331 - val_loss: 1.3876 - val_acc: 0.5230\n",
      "Epoch 26/100\n",
      "50000/50000 [==============================] - 3s 67us/step - loss: 1.0208 - acc: 0.6365 - val_loss: 1.4047 - val_acc: 0.5239\n",
      "Epoch 27/100\n",
      "50000/50000 [==============================] - 3s 67us/step - loss: 1.0005 - acc: 0.6433 - val_loss: 1.4075 - val_acc: 0.5184\n",
      "Epoch 28/100\n",
      "50000/50000 [==============================] - 3s 68us/step - loss: 0.9847 - acc: 0.6477 - val_loss: 1.4609 - val_acc: 0.5132\n",
      "Epoch 29/100\n",
      "50000/50000 [==============================] - 3s 67us/step - loss: 0.9603 - acc: 0.6574 - val_loss: 1.4111 - val_acc: 0.5273\n",
      "Epoch 30/100\n",
      "50000/50000 [==============================] - 3s 67us/step - loss: 0.9494 - acc: 0.6620 - val_loss: 1.4276 - val_acc: 0.5268\n",
      "Epoch 31/100\n",
      "50000/50000 [==============================] - 3s 68us/step - loss: 0.9229 - acc: 0.6715 - val_loss: 1.4707 - val_acc: 0.5154\n",
      "Epoch 32/100\n",
      "50000/50000 [==============================] - 4s 71us/step - loss: 0.9061 - acc: 0.6775 - val_loss: 1.4344 - val_acc: 0.5303\n",
      "Epoch 33/100\n",
      "50000/50000 [==============================] - 3s 68us/step - loss: 0.8820 - acc: 0.6861 - val_loss: 1.4829 - val_acc: 0.5223\n",
      "Epoch 34/100\n",
      "50000/50000 [==============================] - 3s 67us/step - loss: 0.8840 - acc: 0.6829 - val_loss: 1.4819 - val_acc: 0.5275\n",
      "Epoch 35/100\n",
      "50000/50000 [==============================] - 3s 66us/step - loss: 0.8583 - acc: 0.6934 - val_loss: 1.4883 - val_acc: 0.5249\n",
      "Epoch 36/100\n",
      "50000/50000 [==============================] - 3s 67us/step - loss: 0.8377 - acc: 0.7000 - val_loss: 1.4703 - val_acc: 0.5259\n",
      "Epoch 37/100\n",
      "50000/50000 [==============================] - 3s 67us/step - loss: 0.8257 - acc: 0.7040 - val_loss: 1.4951 - val_acc: 0.5284\n",
      "Epoch 38/100\n",
      "50000/50000 [==============================] - 3s 67us/step - loss: 0.7989 - acc: 0.7166 - val_loss: 1.5899 - val_acc: 0.5221\n",
      "Epoch 39/100\n",
      "50000/50000 [==============================] - 3s 67us/step - loss: 0.8019 - acc: 0.7136 - val_loss: 1.5621 - val_acc: 0.5251\n",
      "Epoch 40/100\n",
      "50000/50000 [==============================] - 3s 67us/step - loss: 0.7713 - acc: 0.7266 - val_loss: 1.5484 - val_acc: 0.5230\n",
      "Epoch 41/100\n",
      "50000/50000 [==============================] - 3s 67us/step - loss: 0.7568 - acc: 0.7299 - val_loss: 1.6323 - val_acc: 0.5151\n",
      "Epoch 42/100\n",
      "50000/50000 [==============================] - 3s 67us/step - loss: 0.7572 - acc: 0.7307 - val_loss: 1.5985 - val_acc: 0.5173\n",
      "Epoch 43/100\n",
      "50000/50000 [==============================] - 3s 67us/step - loss: 0.7341 - acc: 0.7375 - val_loss: 1.6196 - val_acc: 0.5173\n",
      "Epoch 44/100\n",
      "50000/50000 [==============================] - 3s 66us/step - loss: 0.7217 - acc: 0.7438 - val_loss: 1.6842 - val_acc: 0.5086\n",
      "Epoch 45/100\n",
      "50000/50000 [==============================] - 3s 66us/step - loss: 0.7184 - acc: 0.7433 - val_loss: 1.6494 - val_acc: 0.5272\n",
      "Epoch 46/100\n",
      "50000/50000 [==============================] - 3s 67us/step - loss: 0.6851 - acc: 0.7541 - val_loss: 1.6681 - val_acc: 0.5235\n",
      "Epoch 47/100\n",
      "50000/50000 [==============================] - 3s 66us/step - loss: 0.6732 - acc: 0.7594 - val_loss: 1.6912 - val_acc: 0.5167\n",
      "Epoch 48/100\n",
      "50000/50000 [==============================] - 3s 66us/step - loss: 0.6580 - acc: 0.7664 - val_loss: 1.7607 - val_acc: 0.5121\n",
      "Epoch 49/100\n",
      "50000/50000 [==============================] - 3s 66us/step - loss: 0.6509 - acc: 0.7675 - val_loss: 1.7592 - val_acc: 0.5146\n",
      "Epoch 50/100\n",
      "50000/50000 [==============================] - 3s 66us/step - loss: 0.6323 - acc: 0.7747 - val_loss: 1.7954 - val_acc: 0.5145\n",
      "Epoch 51/100\n",
      "50000/50000 [==============================] - 3s 66us/step - loss: 0.6173 - acc: 0.7793 - val_loss: 1.7763 - val_acc: 0.5198\n",
      "Epoch 52/100\n",
      "50000/50000 [==============================] - 3s 66us/step - loss: 0.6196 - acc: 0.7770 - val_loss: 1.8069 - val_acc: 0.5197\n",
      "Epoch 53/100\n",
      "50000/50000 [==============================] - 3s 66us/step - loss: 0.6033 - acc: 0.7847 - val_loss: 1.8370 - val_acc: 0.5231\n",
      "Epoch 54/100\n",
      "50000/50000 [==============================] - 3s 66us/step - loss: 0.5886 - acc: 0.7907 - val_loss: 1.8856 - val_acc: 0.5115\n",
      "Epoch 55/100\n",
      "50000/50000 [==============================] - 3s 66us/step - loss: 0.5699 - acc: 0.7974 - val_loss: 1.9290 - val_acc: 0.5133\n",
      "Epoch 56/100\n",
      "50000/50000 [==============================] - 3s 67us/step - loss: 0.5609 - acc: 0.8017 - val_loss: 1.8772 - val_acc: 0.5231\n",
      "Epoch 57/100\n",
      "50000/50000 [==============================] - 3s 67us/step - loss: 0.5605 - acc: 0.7982 - val_loss: 1.9273 - val_acc: 0.5159\n",
      "Epoch 58/100\n",
      "50000/50000 [==============================] - 3s 67us/step - loss: 0.5589 - acc: 0.7995 - val_loss: 1.9208 - val_acc: 0.5178\n",
      "Epoch 59/100\n"
     ]
    },
    {
     "name": "stdout",
     "output_type": "stream",
     "text": [
      "50000/50000 [==============================] - 3s 67us/step - loss: 0.5371 - acc: 0.8066 - val_loss: 1.9961 - val_acc: 0.5117\n",
      "Epoch 60/100\n",
      "50000/50000 [==============================] - 3s 67us/step - loss: 0.5166 - acc: 0.8142 - val_loss: 1.9762 - val_acc: 0.5104\n",
      "Epoch 61/100\n",
      "50000/50000 [==============================] - 3s 69us/step - loss: 0.5058 - acc: 0.8192 - val_loss: 2.1334 - val_acc: 0.5119\n",
      "Epoch 62/100\n",
      "50000/50000 [==============================] - 3s 67us/step - loss: 0.5172 - acc: 0.8150 - val_loss: 2.1084 - val_acc: 0.5143\n",
      "Epoch 63/100\n",
      "50000/50000 [==============================] - 4s 72us/step - loss: 0.5006 - acc: 0.8205 - val_loss: 2.0928 - val_acc: 0.5114\n",
      "Epoch 64/100\n",
      "50000/50000 [==============================] - 3s 67us/step - loss: 0.4852 - acc: 0.8264 - val_loss: 2.1182 - val_acc: 0.5141\n",
      "Epoch 65/100\n",
      "50000/50000 [==============================] - 3s 67us/step - loss: 0.4787 - acc: 0.8278 - val_loss: 2.1281 - val_acc: 0.5172\n",
      "Epoch 66/100\n",
      "50000/50000 [==============================] - 3s 69us/step - loss: 0.4581 - acc: 0.8373 - val_loss: 2.1847 - val_acc: 0.5109\n",
      "Epoch 67/100\n",
      "50000/50000 [==============================] - 3s 67us/step - loss: 0.4675 - acc: 0.8327 - val_loss: 2.1925 - val_acc: 0.5165\n",
      "Epoch 68/100\n",
      "50000/50000 [==============================] - 3s 68us/step - loss: 0.4527 - acc: 0.8395 - val_loss: 2.2437 - val_acc: 0.5068\n",
      "Epoch 69/100\n",
      "50000/50000 [==============================] - 3s 68us/step - loss: 0.4283 - acc: 0.8478 - val_loss: 2.2716 - val_acc: 0.5045\n",
      "Epoch 70/100\n",
      "50000/50000 [==============================] - 3s 67us/step - loss: 0.4498 - acc: 0.8393 - val_loss: 2.3091 - val_acc: 0.5010\n",
      "Epoch 71/100\n",
      "50000/50000 [==============================] - 3s 68us/step - loss: 0.4350 - acc: 0.8434 - val_loss: 2.3330 - val_acc: 0.5064\n",
      "Epoch 72/100\n",
      "50000/50000 [==============================] - 3s 67us/step - loss: 0.4161 - acc: 0.8508 - val_loss: 2.3973 - val_acc: 0.5074\n",
      "Epoch 73/100\n",
      "50000/50000 [==============================] - 3s 68us/step - loss: 0.4109 - acc: 0.8534 - val_loss: 2.3518 - val_acc: 0.5046\n",
      "Epoch 74/100\n",
      "50000/50000 [==============================] - 3s 67us/step - loss: 0.4080 - acc: 0.8525 - val_loss: 2.3924 - val_acc: 0.5071\n",
      "Epoch 75/100\n",
      "50000/50000 [==============================] - 3s 68us/step - loss: 0.4078 - acc: 0.8534 - val_loss: 2.4681 - val_acc: 0.5027\n",
      "Epoch 76/100\n",
      "50000/50000 [==============================] - 3s 68us/step - loss: 0.3979 - acc: 0.8572 - val_loss: 2.5610 - val_acc: 0.4977\n",
      "Epoch 77/100\n",
      "50000/50000 [==============================] - 3s 67us/step - loss: 0.3777 - acc: 0.8633 - val_loss: 2.5185 - val_acc: 0.5024\n",
      "Epoch 78/100\n",
      "50000/50000 [==============================] - 3s 68us/step - loss: 0.4032 - acc: 0.8538 - val_loss: 2.5157 - val_acc: 0.5130\n",
      "Epoch 79/100\n",
      "50000/50000 [==============================] - 3s 67us/step - loss: 0.3743 - acc: 0.8638 - val_loss: 2.5525 - val_acc: 0.5058\n",
      "Epoch 80/100\n",
      "50000/50000 [==============================] - 3s 67us/step - loss: 0.3571 - acc: 0.8716 - val_loss: 2.5953 - val_acc: 0.5119\n",
      "Epoch 81/100\n",
      "50000/50000 [==============================] - 3s 68us/step - loss: 0.3782 - acc: 0.8648 - val_loss: 2.5667 - val_acc: 0.5081\n",
      "Epoch 82/100\n",
      "50000/50000 [==============================] - 3s 68us/step - loss: 0.3570 - acc: 0.8728 - val_loss: 2.6718 - val_acc: 0.5036\n",
      "Epoch 83/100\n",
      "50000/50000 [==============================] - 3s 68us/step - loss: 0.3470 - acc: 0.8756 - val_loss: 2.6688 - val_acc: 0.5013\n",
      "Epoch 84/100\n",
      "50000/50000 [==============================] - 3s 67us/step - loss: 0.3288 - acc: 0.8817 - val_loss: 2.7547 - val_acc: 0.4979\n",
      "Epoch 85/100\n",
      "50000/50000 [==============================] - 3s 67us/step - loss: 0.3673 - acc: 0.8680 - val_loss: 2.7368 - val_acc: 0.5004\n",
      "Epoch 86/100\n",
      "50000/50000 [==============================] - 3s 67us/step - loss: 0.3495 - acc: 0.8741 - val_loss: 2.7508 - val_acc: 0.5071\n",
      "Epoch 87/100\n",
      "50000/50000 [==============================] - 3s 67us/step - loss: 0.3337 - acc: 0.8800 - val_loss: 2.7209 - val_acc: 0.5059\n",
      "Epoch 88/100\n",
      "50000/50000 [==============================] - 3s 67us/step - loss: 0.3255 - acc: 0.8834 - val_loss: 2.7515 - val_acc: 0.5006\n",
      "Epoch 89/100\n",
      "50000/50000 [==============================] - 3s 67us/step - loss: 0.3171 - acc: 0.8867 - val_loss: 2.8404 - val_acc: 0.5034\n",
      "Epoch 90/100\n",
      "50000/50000 [==============================] - 3s 67us/step - loss: 0.3154 - acc: 0.8856 - val_loss: 2.9011 - val_acc: 0.5063\n",
      "Epoch 91/100\n",
      "50000/50000 [==============================] - 3s 67us/step - loss: 0.2950 - acc: 0.8942 - val_loss: 2.8642 - val_acc: 0.5058\n",
      "Epoch 92/100\n",
      "50000/50000 [==============================] - 3s 67us/step - loss: 0.3142 - acc: 0.8861 - val_loss: 2.9392 - val_acc: 0.4985\n",
      "Epoch 93/100\n",
      "50000/50000 [==============================] - 3s 67us/step - loss: 0.3558 - acc: 0.8734 - val_loss: 2.8994 - val_acc: 0.4927\n",
      "Epoch 94/100\n",
      "50000/50000 [==============================] - 3s 67us/step - loss: 0.3256 - acc: 0.8839 - val_loss: 2.9032 - val_acc: 0.4966\n",
      "Epoch 95/100\n",
      "50000/50000 [==============================] - 3s 67us/step - loss: 0.3154 - acc: 0.8863 - val_loss: 2.9517 - val_acc: 0.5048\n",
      "Epoch 96/100\n",
      "50000/50000 [==============================] - 3s 67us/step - loss: 0.2717 - acc: 0.9030 - val_loss: 2.9926 - val_acc: 0.5037\n",
      "Epoch 97/100\n",
      "50000/50000 [==============================] - 3s 67us/step - loss: 0.2721 - acc: 0.9022 - val_loss: 3.0618 - val_acc: 0.4965\n",
      "Epoch 98/100\n",
      "50000/50000 [==============================] - 3s 67us/step - loss: 0.3077 - acc: 0.8889 - val_loss: 3.0219 - val_acc: 0.5031\n",
      "Epoch 99/100\n",
      "50000/50000 [==============================] - 3s 67us/step - loss: 0.2786 - acc: 0.9003 - val_loss: 3.0588 - val_acc: 0.4973\n",
      "Epoch 100/100\n",
      "50000/50000 [==============================] - 3s 66us/step - loss: 0.2974 - acc: 0.8922 - val_loss: 3.0527 - val_acc: 0.5052\n"
     ]
    },
    {
     "data": {
      "text/plain": [
       "<keras.callbacks.History at 0x261aea90>"
      ]
     },
     "execution_count": 7,
     "metadata": {},
     "output_type": "execute_result"
    }
   ],
   "source": [
    "model.fit(x_train, y_train, \n",
    "          epochs=100, \n",
    "          batch_size=256, \n",
    "          validation_data=(x_test, y_test), \n",
    "          shuffle=True)"
   ]
  },
  {
   "cell_type": "code",
   "execution_count": 10,
   "metadata": {},
   "outputs": [
    {
     "data": {
      "image/png": "[encoded data removed]",
      "text/plain": [
       "<Figure size 432x288 with 1 Axes>"
      ]
     },
     "metadata": {
      "needs_background": "light"
     },
     "output_type": "display_data"
    }
   ],
   "source": [
    "import matplotlib.pyplot as plt\n",
    "\n",
    "train_loss = model.history.history[\"loss\"]\n",
    "valid_loss = model.history.history[\"val_loss\"]\n",
    "\n",
    "plt.plot(range(len(train_loss)), train_loss, label=\"train loss\")\n",
    "plt.plot(range(len(valid_loss)), valid_loss, label=\"valid loss\")\n",
    "plt.legend()\n",
    "plt.title(\"Loss\")\n",
    "plt.show()"
   ]
  },
  {
   "cell_type": "code",
   "execution_count": 9,
   "metadata": {},
   "outputs": [
    {
     "data": {
      "image/png": "[encoded data removed]",
      "text/plain": [
       "<Figure size 432x288 with 1 Axes>"
      ]
     },
     "metadata": {
      "needs_background": "light"
     },
     "output_type": "display_data"
    }
   ],
   "source": [
    "train_acc = model.history.history[\"acc\"]\n",
    "valid_acc = model.history.history[\"val_acc\"]\n",
    "\n",
    "plt.plot(range(len(train_acc)), train_acc, label=\"train accuracy\")\n",
    "plt.plot(range(len(valid_acc)), valid_acc, label=\"valid accuracy\")\n",
    "plt.legend()\n",
    "plt.title(\"Accuracy\")\n",
    "plt.show()"
   ]
  },
  {
   "cell_type": "markdown",
   "metadata": {},
   "source": [
    "## Work\n",
    "1. 請將 Epoch 加到 500 個，並觀察 learning curve 的走勢\n",
    "2. 請將 Optimizer 換成 SGD，並觀察 learning curve 的走勢"
   ]
  }
 ],
 "metadata": {
  "kernelspec": {
   "display_name": "Python 3",
   "language": "python",
   "name": "python3"
  },
  "language_info": {
   "codemirror_mode": {
    "name": "ipython",
    "version": 3
   },
   "file_extension": ".py",
   "mimetype": "text/x-python",
   "name": "python",
   "nbconvert_exporter": "python",
   "pygments_lexer": "ipython3",
   "version": "3.6.7"
  }
 },
 "nbformat": 4,
 "nbformat_minor": 2
}
