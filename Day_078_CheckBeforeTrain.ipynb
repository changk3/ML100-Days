{
 "cells": [
  {
   "cell_type": "code",
   "execution_count": 1,
   "metadata": {},
   "outputs": [
    {
     "name": "stderr",
     "output_type": "stream",
     "text": [
      "'nvidia-smi' 不是內部或外部命令、可執行的程式或批次檔。\n"
     ]
    }
   ],
   "source": [
    "## 確認硬體資源\n",
    "!nvidia-smi"
   ]
  },
  {
   "cell_type": "code",
   "execution_count": 2,
   "metadata": {},
   "outputs": [
    {
     "name": "stderr",
     "output_type": "stream",
     "text": [
      "Using TensorFlow backend.\n"
     ]
    }
   ],
   "source": [
    "import os\n",
    "import keras\n",
    "\n",
    "# Disable GPU\n",
    "os.environ[\"CUDA_VISIBLE_DEVICES\"] = \"\""
   ]
  },
  {
   "cell_type": "code",
   "execution_count": 3,
   "metadata": {},
   "outputs": [],
   "source": [
    "train, test = keras.datasets.cifar10.load_data()"
   ]
  },
  {
   "cell_type": "code",
   "execution_count": 4,
   "metadata": {},
   "outputs": [],
   "source": [
    "## 資料前處理\n",
    "def preproc_x(x, flatten=True):\n",
    "    x = x / 255.\n",
    "    if flatten:\n",
    "        x = x.reshape((len(x), -1))\n",
    "    return x\n",
    "\n",
    "def preproc_y(y, num_classes=10):\n",
    "    if y.shape[-1] == 1:\n",
    "        y = keras.utils.to_categorical(y, num_classes)\n",
    "    return y    "
   ]
  },
  {
   "cell_type": "code",
   "execution_count": 5,
   "metadata": {},
   "outputs": [],
   "source": [
    "x_train, y_train = train\n",
    "x_test, y_test = test\n",
    "\n",
    "# Preproc the inputs\n",
    "x_train = preproc_x(x_train)\n",
    "x_test = preproc_x(x_test)\n",
    "\n",
    "# Preprc the outputs\n",
    "y_train = preproc_y(y_train)\n",
    "y_test = preproc_y(y_test)"
   ]
  },
  {
   "cell_type": "code",
   "execution_count": 6,
   "metadata": {},
   "outputs": [],
   "source": [
    "def build_mlp(input_shape, output_units=10, num_neurons=[512, 256, 128]):\n",
    "    input_layer = keras.layers.Input(input_shape)\n",
    "    \n",
    "    for i, n_units in enumerate(num_neurons):\n",
    "        if i == 0:\n",
    "            x = keras.layers.Dense(units=n_units, activation=\"relu\", name=\"hidden_layer\"+str(i+1))(input_layer)\n",
    "        else:\n",
    "            x = keras.layers.Dense(units=n_units, activation=\"relu\", name=\"hidden_layer\"+str(i+1))(x)\n",
    "    \n",
    "    out = keras.layers.Dense(units=output_units, activation=\"softmax\", name=\"output\")(x)\n",
    "    \n",
    "    model = keras.models.Model(inputs=[input_layer], outputs=[out])\n",
    "    return model"
   ]
  },
  {
   "cell_type": "code",
   "execution_count": 7,
   "metadata": {},
   "outputs": [
    {
     "name": "stdout",
     "output_type": "stream",
     "text": [
      "_________________________________________________________________\n",
      "Layer (type)                 Output Shape              Param #   \n",
      "=================================================================\n",
      "input_1 (InputLayer)         (None, 3072)              0         \n",
      "_________________________________________________________________\n",
      "hidden_layer1 (Dense)        (None, 512)               1573376   \n",
      "_________________________________________________________________\n",
      "hidden_layer2 (Dense)        (None, 256)               131328    \n",
      "_________________________________________________________________\n",
      "hidden_layer3 (Dense)        (None, 128)               32896     \n",
      "_________________________________________________________________\n",
      "output (Dense)               (None, 10)                1290      \n",
      "=================================================================\n",
      "Total params: 1,738,890\n",
      "Trainable params: 1,738,890\n",
      "Non-trainable params: 0\n",
      "_________________________________________________________________\n"
     ]
    }
   ],
   "source": [
    "model = build_mlp(input_shape=x_train.shape[1:])\n",
    "model.summary()"
   ]
  },
  {
   "cell_type": "code",
   "execution_count": 8,
   "metadata": {},
   "outputs": [],
   "source": [
    "## 超參數設定\n",
    "LEARNING_RATE = 0.001\n",
    "EPOCHS = 100\n",
    "BATCH_SIZE = 256"
   ]
  },
  {
   "cell_type": "code",
   "execution_count": 9,
   "metadata": {},
   "outputs": [],
   "source": [
    "optimizer = keras.optimizers.Adam(lr=LEARNING_RATE)\n",
    "model.compile(loss=\"categorical_crossentropy\", metrics=[\"accuracy\"], optimizer=optimizer)"
   ]
  },
  {
   "cell_type": "code",
   "execution_count": 10,
   "metadata": {},
   "outputs": [
    {
     "name": "stdout",
     "output_type": "stream",
     "text": [
      "Train on 50000 samples, validate on 10000 samples\n",
      "Epoch 1/100\n",
      "50000/50000 [==============================] - 7s 146us/step - loss: 1.9235 - acc: 0.3047 - val_loss: 1.7514 - val_acc: 0.3735\n",
      "Epoch 2/100\n",
      "50000/50000 [==============================] - 3s 67us/step - loss: 1.7059 - acc: 0.3895 - val_loss: 1.6119 - val_acc: 0.4202\n",
      "Epoch 3/100\n",
      "50000/50000 [==============================] - 3s 67us/step - loss: 1.6001 - acc: 0.4286 - val_loss: 1.5848 - val_acc: 0.4258\n",
      "Epoch 4/100\n",
      "50000/50000 [==============================] - 3s 67us/step - loss: 1.5388 - acc: 0.4503 - val_loss: 1.6821 - val_acc: 0.4142\n",
      "Epoch 5/100\n",
      "50000/50000 [==============================] - 3s 67us/step - loss: 1.5091 - acc: 0.4602 - val_loss: 1.5145 - val_acc: 0.4608\n",
      "Epoch 6/100\n",
      "50000/50000 [==============================] - 3s 67us/step - loss: 1.4636 - acc: 0.4764 - val_loss: 1.5298 - val_acc: 0.4529\n",
      "Epoch 7/100\n",
      "50000/50000 [==============================] - 3s 67us/step - loss: 1.4369 - acc: 0.4861 - val_loss: 1.4967 - val_acc: 0.4714\n",
      "Epoch 8/100\n",
      "50000/50000 [==============================] - 3s 67us/step - loss: 1.4000 - acc: 0.4980 - val_loss: 1.4358 - val_acc: 0.4919\n",
      "Epoch 9/100\n",
      "50000/50000 [==============================] - 3s 67us/step - loss: 1.3723 - acc: 0.5095 - val_loss: 1.4209 - val_acc: 0.4926\n",
      "Epoch 10/100\n",
      "50000/50000 [==============================] - 3s 68us/step - loss: 1.3466 - acc: 0.5192 - val_loss: 1.4067 - val_acc: 0.5020\n",
      "Epoch 11/100\n",
      "50000/50000 [==============================] - 3s 67us/step - loss: 1.3145 - acc: 0.5312 - val_loss: 1.4289 - val_acc: 0.4893\n",
      "Epoch 12/100\n",
      "50000/50000 [==============================] - 3s 67us/step - loss: 1.3002 - acc: 0.5350 - val_loss: 1.3907 - val_acc: 0.5073\n",
      "Epoch 13/100\n",
      "50000/50000 [==============================] - 3s 66us/step - loss: 1.2669 - acc: 0.5489 - val_loss: 1.4030 - val_acc: 0.5068\n",
      "Epoch 14/100\n",
      "50000/50000 [==============================] - 3s 67us/step - loss: 1.2462 - acc: 0.5568 - val_loss: 1.4017 - val_acc: 0.5054\n",
      "Epoch 15/100\n",
      "50000/50000 [==============================] - 3s 67us/step - loss: 1.2272 - acc: 0.5619 - val_loss: 1.4165 - val_acc: 0.5081\n",
      "Epoch 16/100\n",
      "50000/50000 [==============================] - 3s 67us/step - loss: 1.2014 - acc: 0.5709 - val_loss: 1.4727 - val_acc: 0.4883\n",
      "Epoch 17/100\n",
      "50000/50000 [==============================] - 3s 67us/step - loss: 1.1764 - acc: 0.5823 - val_loss: 1.3786 - val_acc: 0.5173\n",
      "Epoch 18/100\n",
      "50000/50000 [==============================] - 3s 67us/step - loss: 1.1666 - acc: 0.5862 - val_loss: 1.3763 - val_acc: 0.5190\n",
      "Epoch 19/100\n",
      "50000/50000 [==============================] - 3s 67us/step - loss: 1.1348 - acc: 0.5929 - val_loss: 1.3923 - val_acc: 0.5104\n",
      "Epoch 20/100\n",
      "50000/50000 [==============================] - 3s 67us/step - loss: 1.1290 - acc: 0.5989 - val_loss: 1.4764 - val_acc: 0.4822\n",
      "Epoch 21/100\n",
      "50000/50000 [==============================] - 3s 67us/step - loss: 1.0995 - acc: 0.6082 - val_loss: 1.3604 - val_acc: 0.5261\n",
      "Epoch 22/100\n",
      "50000/50000 [==============================] - 3s 67us/step - loss: 1.0781 - acc: 0.6149 - val_loss: 1.3683 - val_acc: 0.5253\n",
      "Epoch 23/100\n",
      "50000/50000 [==============================] - 3s 67us/step - loss: 1.0603 - acc: 0.6212 - val_loss: 1.4096 - val_acc: 0.5172\n",
      "Epoch 24/100\n",
      "50000/50000 [==============================] - 3s 67us/step - loss: 1.0408 - acc: 0.6287 - val_loss: 1.4291 - val_acc: 0.5079\n",
      "Epoch 25/100\n",
      "50000/50000 [==============================] - 3s 67us/step - loss: 1.0194 - acc: 0.6373 - val_loss: 1.4592 - val_acc: 0.5110\n",
      "Epoch 26/100\n",
      "50000/50000 [==============================] - 3s 67us/step - loss: 1.0150 - acc: 0.6381 - val_loss: 1.4113 - val_acc: 0.5267\n",
      "Epoch 27/100\n",
      "50000/50000 [==============================] - 3s 67us/step - loss: 0.9805 - acc: 0.6518 - val_loss: 1.4391 - val_acc: 0.5060\n",
      "Epoch 28/100\n",
      "50000/50000 [==============================] - 3s 67us/step - loss: 0.9566 - acc: 0.6587 - val_loss: 1.4406 - val_acc: 0.5161\n",
      "Epoch 29/100\n",
      "50000/50000 [==============================] - 3s 67us/step - loss: 0.9485 - acc: 0.6615 - val_loss: 1.4400 - val_acc: 0.5222\n",
      "Epoch 30/100\n",
      "50000/50000 [==============================] - 3s 67us/step - loss: 0.9264 - acc: 0.6699 - val_loss: 1.4624 - val_acc: 0.5093\n",
      "Epoch 31/100\n",
      "50000/50000 [==============================] - 3s 67us/step - loss: 0.9005 - acc: 0.6789 - val_loss: 1.4414 - val_acc: 0.5359\n",
      "Epoch 32/100\n",
      "50000/50000 [==============================] - 3s 67us/step - loss: 0.8842 - acc: 0.6832 - val_loss: 1.4882 - val_acc: 0.5158\n",
      "Epoch 33/100\n",
      "50000/50000 [==============================] - 3s 67us/step - loss: 0.8764 - acc: 0.6873 - val_loss: 1.4986 - val_acc: 0.5261\n",
      "Epoch 34/100\n",
      "50000/50000 [==============================] - 3s 67us/step - loss: 0.8487 - acc: 0.6949 - val_loss: 1.4559 - val_acc: 0.5366\n",
      "Epoch 35/100\n",
      "50000/50000 [==============================] - 3s 67us/step - loss: 0.8369 - acc: 0.7020 - val_loss: 1.5225 - val_acc: 0.5185\n",
      "Epoch 36/100\n",
      "50000/50000 [==============================] - 3s 67us/step - loss: 0.8362 - acc: 0.7002 - val_loss: 1.5225 - val_acc: 0.5264\n",
      "Epoch 37/100\n",
      "50000/50000 [==============================] - 3s 66us/step - loss: 0.7969 - acc: 0.7138 - val_loss: 1.5254 - val_acc: 0.5244\n",
      "Epoch 38/100\n",
      "50000/50000 [==============================] - 3s 67us/step - loss: 0.7869 - acc: 0.7204 - val_loss: 1.5763 - val_acc: 0.5175\n",
      "Epoch 39/100\n",
      "50000/50000 [==============================] - 3s 67us/step - loss: 0.7702 - acc: 0.7265 - val_loss: 1.5617 - val_acc: 0.5267\n",
      "Epoch 40/100\n",
      "50000/50000 [==============================] - 3s 67us/step - loss: 0.7584 - acc: 0.7277 - val_loss: 1.6103 - val_acc: 0.5150\n",
      "Epoch 41/100\n",
      "50000/50000 [==============================] - 3s 67us/step - loss: 0.7444 - acc: 0.7339 - val_loss: 1.6778 - val_acc: 0.5039\n",
      "Epoch 42/100\n",
      "50000/50000 [==============================] - 3s 67us/step - loss: 0.7347 - acc: 0.7375 - val_loss: 1.6378 - val_acc: 0.5213\n",
      "Epoch 43/100\n",
      "50000/50000 [==============================] - 3s 66us/step - loss: 0.7106 - acc: 0.7462 - val_loss: 1.6762 - val_acc: 0.5245\n",
      "Epoch 44/100\n",
      "50000/50000 [==============================] - 3s 67us/step - loss: 0.6925 - acc: 0.7532 - val_loss: 1.7128 - val_acc: 0.5139\n",
      "Epoch 45/100\n",
      "50000/50000 [==============================] - 3s 67us/step - loss: 0.6840 - acc: 0.7571 - val_loss: 1.6916 - val_acc: 0.5253\n",
      "Epoch 46/100\n",
      "50000/50000 [==============================] - 3s 67us/step - loss: 0.6646 - acc: 0.7641 - val_loss: 1.7538 - val_acc: 0.5169\n",
      "Epoch 47/100\n",
      "50000/50000 [==============================] - 3s 67us/step - loss: 0.6490 - acc: 0.7703 - val_loss: 1.7620 - val_acc: 0.5207\n",
      "Epoch 48/100\n",
      "50000/50000 [==============================] - 3s 66us/step - loss: 0.6409 - acc: 0.7714 - val_loss: 1.7716 - val_acc: 0.5218\n",
      "Epoch 49/100\n",
      "50000/50000 [==============================] - 3s 66us/step - loss: 0.6285 - acc: 0.7759 - val_loss: 1.7875 - val_acc: 0.5092\n",
      "Epoch 50/100\n",
      "50000/50000 [==============================] - 3s 67us/step - loss: 0.6180 - acc: 0.7793 - val_loss: 1.8597 - val_acc: 0.5102\n",
      "Epoch 51/100\n",
      "50000/50000 [==============================] - 3s 67us/step - loss: 0.6156 - acc: 0.7790 - val_loss: 1.8826 - val_acc: 0.5038\n",
      "Epoch 52/100\n",
      "50000/50000 [==============================] - 3s 67us/step - loss: 0.5980 - acc: 0.7862 - val_loss: 1.8795 - val_acc: 0.5164\n",
      "Epoch 53/100\n",
      "50000/50000 [==============================] - 3s 67us/step - loss: 0.5943 - acc: 0.7872 - val_loss: 1.8969 - val_acc: 0.5143\n",
      "Epoch 54/100\n",
      "50000/50000 [==============================] - 3s 67us/step - loss: 0.5730 - acc: 0.7967 - val_loss: 1.9815 - val_acc: 0.5058\n",
      "Epoch 55/100\n",
      "50000/50000 [==============================] - 3s 67us/step - loss: 0.5625 - acc: 0.7992 - val_loss: 1.9580 - val_acc: 0.5143\n",
      "Epoch 56/100\n",
      "50000/50000 [==============================] - 3s 66us/step - loss: 0.5413 - acc: 0.8059 - val_loss: 2.0096 - val_acc: 0.5189\n",
      "Epoch 57/100\n",
      "50000/50000 [==============================] - 3s 66us/step - loss: 0.5457 - acc: 0.8058 - val_loss: 2.0216 - val_acc: 0.5070\n",
      "Epoch 58/100\n",
      "50000/50000 [==============================] - 3s 67us/step - loss: 0.5285 - acc: 0.8095 - val_loss: 2.0888 - val_acc: 0.4998\n",
      "Epoch 59/100\n"
     ]
    },
    {
     "name": "stdout",
     "output_type": "stream",
     "text": [
      "50000/50000 [==============================] - 3s 67us/step - loss: 0.5286 - acc: 0.8093 - val_loss: 2.0863 - val_acc: 0.5055\n",
      "Epoch 60/100\n",
      "50000/50000 [==============================] - 3s 67us/step - loss: 0.5067 - acc: 0.8181 - val_loss: 2.1180 - val_acc: 0.5053\n",
      "Epoch 61/100\n",
      "50000/50000 [==============================] - 3s 67us/step - loss: 0.4928 - acc: 0.8239 - val_loss: 2.1878 - val_acc: 0.5096\n",
      "Epoch 62/100\n",
      "50000/50000 [==============================] - 3s 67us/step - loss: 0.4785 - acc: 0.8288 - val_loss: 2.2016 - val_acc: 0.5084\n",
      "Epoch 63/100\n",
      "50000/50000 [==============================] - 3s 67us/step - loss: 0.4765 - acc: 0.8293 - val_loss: 2.2209 - val_acc: 0.5103\n",
      "Epoch 64/100\n",
      "50000/50000 [==============================] - 3s 67us/step - loss: 0.4763 - acc: 0.8293 - val_loss: 2.2274 - val_acc: 0.5005\n",
      "Epoch 65/100\n",
      "50000/50000 [==============================] - 3s 67us/step - loss: 0.4694 - acc: 0.8311 - val_loss: 2.2421 - val_acc: 0.5132\n",
      "Epoch 66/100\n",
      "50000/50000 [==============================] - 3s 67us/step - loss: 0.4591 - acc: 0.8362 - val_loss: 2.2559 - val_acc: 0.5039\n",
      "Epoch 67/100\n",
      "50000/50000 [==============================] - 3s 67us/step - loss: 0.4502 - acc: 0.8387 - val_loss: 2.2727 - val_acc: 0.5088\n",
      "Epoch 68/100\n",
      "50000/50000 [==============================] - 3s 68us/step - loss: 0.4319 - acc: 0.8468 - val_loss: 2.3932 - val_acc: 0.5071\n",
      "Epoch 69/100\n",
      "50000/50000 [==============================] - 3s 67us/step - loss: 0.4269 - acc: 0.8483 - val_loss: 2.3711 - val_acc: 0.5001\n",
      "Epoch 70/100\n",
      "50000/50000 [==============================] - 3s 67us/step - loss: 0.4250 - acc: 0.8475 - val_loss: 2.3801 - val_acc: 0.5082\n",
      "Epoch 71/100\n",
      "50000/50000 [==============================] - 3s 66us/step - loss: 0.4103 - acc: 0.8529 - val_loss: 2.4509 - val_acc: 0.5080\n",
      "Epoch 72/100\n",
      "50000/50000 [==============================] - 3s 67us/step - loss: 0.4073 - acc: 0.8553 - val_loss: 2.4870 - val_acc: 0.5003\n",
      "Epoch 73/100\n",
      "50000/50000 [==============================] - 3s 67us/step - loss: 0.4165 - acc: 0.8503 - val_loss: 2.5399 - val_acc: 0.5053\n",
      "Epoch 74/100\n",
      "50000/50000 [==============================] - 3s 66us/step - loss: 0.4044 - acc: 0.8545 - val_loss: 2.5238 - val_acc: 0.5005\n",
      "Epoch 75/100\n",
      "50000/50000 [==============================] - 3s 67us/step - loss: 0.4000 - acc: 0.8572 - val_loss: 2.5587 - val_acc: 0.5016\n",
      "Epoch 76/100\n",
      "50000/50000 [==============================] - 3s 67us/step - loss: 0.3792 - acc: 0.8628 - val_loss: 2.6242 - val_acc: 0.4984\n",
      "Epoch 77/100\n",
      "50000/50000 [==============================] - 3s 67us/step - loss: 0.3702 - acc: 0.8685 - val_loss: 2.5621 - val_acc: 0.4977\n",
      "Epoch 78/100\n",
      "50000/50000 [==============================] - 3s 67us/step - loss: 0.4037 - acc: 0.8543 - val_loss: 2.5729 - val_acc: 0.5026\n",
      "Epoch 79/100\n",
      "50000/50000 [==============================] - 3s 67us/step - loss: 0.3491 - acc: 0.8760 - val_loss: 2.5989 - val_acc: 0.5085\n",
      "Epoch 80/100\n",
      "50000/50000 [==============================] - 3s 67us/step - loss: 0.3615 - acc: 0.8699 - val_loss: 2.7885 - val_acc: 0.4848\n",
      "Epoch 81/100\n",
      "50000/50000 [==============================] - 3s 67us/step - loss: 0.3788 - acc: 0.8635 - val_loss: 2.6497 - val_acc: 0.4981\n",
      "Epoch 82/100\n",
      "50000/50000 [==============================] - 3s 67us/step - loss: 0.3587 - acc: 0.8697 - val_loss: 2.6899 - val_acc: 0.5049\n",
      "Epoch 83/100\n",
      "50000/50000 [==============================] - 3s 67us/step - loss: 0.3374 - acc: 0.8785 - val_loss: 2.7789 - val_acc: 0.5021\n",
      "Epoch 84/100\n",
      "50000/50000 [==============================] - 3s 67us/step - loss: 0.3300 - acc: 0.8829 - val_loss: 2.8247 - val_acc: 0.4956\n",
      "Epoch 85/100\n",
      "50000/50000 [==============================] - 3s 67us/step - loss: 0.3502 - acc: 0.8748 - val_loss: 2.7906 - val_acc: 0.5009\n",
      "Epoch 86/100\n",
      "50000/50000 [==============================] - 3s 67us/step - loss: 0.3374 - acc: 0.8783 - val_loss: 2.8283 - val_acc: 0.4969\n",
      "Epoch 87/100\n",
      "50000/50000 [==============================] - 3s 67us/step - loss: 0.3224 - acc: 0.8842 - val_loss: 2.8552 - val_acc: 0.4999\n",
      "Epoch 88/100\n",
      "50000/50000 [==============================] - 3s 67us/step - loss: 0.3023 - acc: 0.8922 - val_loss: 2.8456 - val_acc: 0.5063\n",
      "Epoch 89/100\n",
      "50000/50000 [==============================] - 3s 67us/step - loss: 0.3068 - acc: 0.8904 - val_loss: 2.8522 - val_acc: 0.4950\n",
      "Epoch 90/100\n",
      "50000/50000 [==============================] - 3s 67us/step - loss: 0.3001 - acc: 0.8914 - val_loss: 2.9378 - val_acc: 0.4995\n",
      "Epoch 91/100\n",
      "50000/50000 [==============================] - 3s 67us/step - loss: 0.3140 - acc: 0.8873 - val_loss: 3.0099 - val_acc: 0.4990\n",
      "Epoch 92/100\n",
      "50000/50000 [==============================] - 3s 67us/step - loss: 0.3277 - acc: 0.8831 - val_loss: 2.9199 - val_acc: 0.4936\n",
      "Epoch 93/100\n",
      "50000/50000 [==============================] - 3s 67us/step - loss: 0.3053 - acc: 0.8904 - val_loss: 3.0035 - val_acc: 0.4909\n",
      "Epoch 94/100\n",
      "50000/50000 [==============================] - 3s 67us/step - loss: 0.3061 - acc: 0.8905 - val_loss: 3.1025 - val_acc: 0.5048\n",
      "Epoch 95/100\n",
      "50000/50000 [==============================] - 3s 67us/step - loss: 0.3012 - acc: 0.8910 - val_loss: 3.0122 - val_acc: 0.4971\n",
      "Epoch 96/100\n",
      "50000/50000 [==============================] - 3s 67us/step - loss: 0.2854 - acc: 0.8989 - val_loss: 3.1376 - val_acc: 0.4974\n",
      "Epoch 97/100\n",
      "50000/50000 [==============================] - 3s 67us/step - loss: 0.2760 - acc: 0.9012 - val_loss: 2.9735 - val_acc: 0.5095\n",
      "Epoch 98/100\n",
      "50000/50000 [==============================] - 3s 67us/step - loss: 0.2769 - acc: 0.9012 - val_loss: 3.1220 - val_acc: 0.4968\n",
      "Epoch 99/100\n",
      "50000/50000 [==============================] - 3s 66us/step - loss: 0.2792 - acc: 0.9002 - val_loss: 3.2189 - val_acc: 0.4875\n",
      "Epoch 100/100\n",
      "50000/50000 [==============================] - 3s 67us/step - loss: 0.2686 - acc: 0.9037 - val_loss: 3.0941 - val_acc: 0.4998\n"
     ]
    },
    {
     "data": {
      "text/plain": [
       "<keras.callbacks.History at 0x1ae72a90>"
      ]
     },
     "execution_count": 10,
     "metadata": {},
     "output_type": "execute_result"
    }
   ],
   "source": [
    "model.fit(x_train, y_train, \n",
    "          epochs=EPOCHS, \n",
    "          batch_size=BATCH_SIZE, \n",
    "          validation_data=(x_test, y_test), \n",
    "          shuffle=True)"
   ]
  },
  {
   "cell_type": "code",
   "execution_count": 13,
   "metadata": {},
   "outputs": [
    {
     "data": {
      "image/png": "[encoded data removed]",
      "text/plain": [
       "<Figure size 432x288 with 1 Axes>"
      ]
     },
     "metadata": {
      "needs_background": "light"
     },
     "output_type": "display_data"
    }
   ],
   "source": [
    "import matplotlib.pyplot as plt\n",
    "\n",
    "train_loss = model.history.history[\"loss\"]\n",
    "valid_loss = model.history.history[\"val_loss\"]\n",
    "\n",
    "train_acc = model.history.history[\"acc\"]\n",
    "valid_acc = model.history.history[\"val_acc\"]\n",
    "\n",
    "plt.plot(range(len(train_loss)), train_loss, label=\"train loss\")\n",
    "plt.plot(range(len(valid_loss)), valid_loss, label=\"valid loss\")\n",
    "plt.legend()\n",
    "plt.title(\"Loss\")\n",
    "plt.show()"
   ]
  },
  {
   "cell_type": "code",
   "execution_count": 12,
   "metadata": {},
   "outputs": [
    {
     "data": {
      "image/png": "[encoded data removed]",
      "text/plain": [
       "<Figure size 432x288 with 1 Axes>"
      ]
     },
     "metadata": {
      "needs_background": "light"
     },
     "output_type": "display_data"
    }
   ],
   "source": [
    "plt.plot(range(len(train_acc)), train_acc, label=\"train accuracy\")\n",
    "plt.plot(range(len(valid_acc)), valid_acc, label=\"valid accuracy\")\n",
    "plt.legend()\n",
    "plt.title(\"Accuracy\")\n",
    "plt.show()"
   ]
  },
  {
   "cell_type": "markdown",
   "metadata": {},
   "source": [
    "## Work\n",
    "1. 請嘗試將 preproc_x 替換成以每筆資料的 min/max 進行標準化至 -1 ~ 1 間，再進行訓練\n",
    "2. 請嘗試將 mlp 疊更深 (e.g 5~10 層)，進行訓練後觀察 learning curve 的走勢\n",
    "3. (optional) 請改用 GPU 進行訓練 (如果你有 GPU 的話)，比較使用 CPU 與 GPU 的訓練速度"
   ]
  }
 ],
 "metadata": {
  "kernelspec": {
   "display_name": "Python 3",
   "language": "python",
   "name": "python3"
  },
  "language_info": {
   "codemirror_mode": {
    "name": "ipython",
    "version": 3
   },
   "file_extension": ".py",
   "mimetype": "text/x-python",
   "name": "python",
   "nbconvert_exporter": "python",
   "pygments_lexer": "ipython3",
   "version": "3.6.7"
  }
 },
 "nbformat": 4,
 "nbformat_minor": 2
}
